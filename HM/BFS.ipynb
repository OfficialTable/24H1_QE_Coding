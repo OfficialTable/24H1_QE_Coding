{
 "cells": [
  {
   "cell_type": "code",
   "execution_count": 1,
   "metadata": {},
   "outputs": [],
   "source": [
    "class GNode:\n",
    "    def __init__(self, id, color = \"W\", p = None):\n",
    "        '''\n",
    "        [color spec]\n",
    "        W: not visited\n",
    "        G: visited but its neighbors are not visited \n",
    "        B: visited and all the neighbors are visited \n",
    "        '''\n",
    "        self.id = id\n",
    "        self.color = color\n",
    "        self.parent = p\n",
    "\n",
    "def _bfs(G: dict, s: GNode):\n",
    "    queue = [s]\n",
    "    path = []\n",
    "    s.color = \"G\"\n",
    "\n",
    "    while queue:\n",
    "        node = queue.pop(0)\n",
    "        # print(node.id)\n",
    "        path.append(node.id)\n",
    "\n",
    "        for neigh in G[node]:\n",
    "            if neigh.color == \"W\":\n",
    "                neigh.color = \"G\"\n",
    "                neigh.parent = node\n",
    "                queue.append(neigh)\n",
    "        node.color = \"B\"\n",
    "    return sorted(path)"
   ]
  },
  {
   "cell_type": "code",
   "execution_count": null,
   "metadata": {},
   "outputs": [],
   "source": []
  }
 ],
 "metadata": {
  "kernelspec": {
   "display_name": "Python 3",
   "language": "python",
   "name": "python3"
  },
  "language_info": {
   "codemirror_mode": {
    "name": "ipython",
    "version": 3
   },
   "file_extension": ".py",
   "mimetype": "text/x-python",
   "name": "python",
   "nbconvert_exporter": "python",
   "pygments_lexer": "ipython3",
   "version": "3.10.2"
  }
 },
 "nbformat": 4,
 "nbformat_minor": 2
}
