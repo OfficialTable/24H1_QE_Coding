{
 "cells": [
  {
   "cell_type": "code",
   "execution_count": 8,
   "metadata": {},
   "outputs": [],
   "source": [
    "s = \"abcabcbb\"\n",
    "ans = \"\"\n",
    "ans += \"i\""
   ]
  },
  {
   "cell_type": "code",
   "execution_count": 30,
   "metadata": {},
   "outputs": [],
   "source": [
    "s = \"blue is the sky\""
   ]
  },
  {
   "cell_type": "code",
   "execution_count": 40,
   "metadata": {},
   "outputs": [
    {
     "data": {
      "text/plain": [
       "['blue', 'is', 'the', 'sky']"
      ]
     },
     "execution_count": 40,
     "metadata": {},
     "output_type": "execute_result"
    }
   ],
   "source": [
    "temp"
   ]
  },
  {
   "cell_type": "code",
   "execution_count": 55,
   "metadata": {},
   "outputs": [],
   "source": [
    "temp = s.split()\n",
    "res = \"\"\n",
    "for i in range(len(temp)-1, -1, -1):\n",
    "    if res == \"\":\n",
    "        res += temp[i]\n",
    "    else:\n",
    "        res = res + \" \" + temp[i]"
   ]
  },
  {
   "cell_type": "code",
   "execution_count": 56,
   "metadata": {},
   "outputs": [
    {
     "data": {
      "text/plain": [
       "'sky the is blue'"
      ]
     },
     "execution_count": 56,
     "metadata": {},
     "output_type": "execute_result"
    }
   ],
   "source": [
    "res"
   ]
  },
  {
   "cell_type": "code",
   "execution_count": 20,
   "metadata": {},
   "outputs": [],
   "source": [
    "def lengthOfLongestSubstring(s: str) -> int:\n",
    "    slidingWindow = set()\n",
    "    left = 0\n",
    "    res = 0\n",
    "\n",
    "    for right in range(len(s)):\n",
    "        #오른쪽 포인터가 지금 슬라이딩 윈도우에 있을 경우 *왼포인터랑겹칠때\n",
    "        while s[right] in slidingWindow:\n",
    "            #왼 포인터를 슬라이딩 윈도우에서 삭제\n",
    "            slidingWindow.remove(s[left])\n",
    "            #왼 포인터를 한칸 옮김\n",
    "            left += 1\n",
    "        #그렇지 않으면, 슬라이딩 윈도우에 추가\n",
    "        slidingWindow.add(s[right])\n",
    "        #현재 슬라이딩 윈도우 길이가 더 길다면 res값을 업데이트\n",
    "        res = max(res, len(slidingWindow))\n",
    "\n",
    "    return res"
   ]
  },
  {
   "cell_type": "code",
   "execution_count": 21,
   "metadata": {},
   "outputs": [
    {
     "data": {
      "text/plain": [
       "''"
      ]
     },
     "execution_count": 21,
     "metadata": {},
     "output_type": "execute_result"
    }
   ],
   "source": [
    "lengthOfLongestSubstring(\"abcabdd\")"
   ]
  },
  {
   "cell_type": "code",
   "execution_count": 57,
   "metadata": {},
   "outputs": [],
   "source": [
    "target = 7\n",
    "nums = [2,3,1,2,4,3]"
   ]
  },
  {
   "cell_type": "code",
   "execution_count": null,
   "metadata": {},
   "outputs": [],
   "source": [
    "class Solution(object):\n",
    "    def minInsertions(self, s):\n",
    "        \"\"\"\n",
    "        :type s: str\n",
    "        :rtype: int\n",
    "        \"\"\"\n",
    "    \n",
    "        def longestPalindrome(s):\n",
    "            res = \"\"\n",
    "            resLen = 0\n",
    "\n",
    "            for i in range(len(s)):\n",
    "                #odd length e.g. \"bab\" \n",
    "                #i = center position \n",
    "                left, right = i, i\n",
    "                while left >= 0 and right < len(s) and s[left] == s[right]:\n",
    "                    if (right - left + 1) > resLen:\n",
    "                        res = s[left : right + 1]\n",
    "                        resLen = right - left + 1\n",
    "                    left -= 1\n",
    "                    right += 1\n",
    "                \n",
    "                #even length e.g. \"cbbc\"\n",
    "                left, right = i, i + 1\n",
    "                while left >= 0 and right < len(s) and s[left] == s[right]:\n",
    "                    if (right - left + 1) > resLen:\n",
    "                        res = s[left : right + 1]\n",
    "                        resLen = right - left + 1\n",
    "                    left -= 1\n",
    "                    right += 1\n",
    "            \n",
    "            return len(res)\n",
    "        \n",
    "        lengthLongestPalindrome = longestPalindrome(s)\n",
    "        return len(s)-lengthLongestPalindrome\n",
    "\n"
   ]
  },
  {
   "cell_type": "code",
   "execution_count": 61,
   "metadata": {},
   "outputs": [],
   "source": [
    "pattern = \"abba\"\n",
    "s = \"dog cat cat zebra\""
   ]
  },
  {
   "cell_type": "code",
   "execution_count": 62,
   "metadata": {},
   "outputs": [],
   "source": [
    "s = s.split()\n",
    "pattern = list(pattern)\n",
    "temp = dict()\n",
    "\n",
    "if len(set(pattern)) != len(set(s)) or len(pattern) != len(s):\n",
    "    return False\n",
    "\n",
    "for i in range(len(s)):\n",
    "    if s[i] not in temp:\n",
    "        temp[s[i]] = pattern[i]\n",
    "    elif temp[s[i]] != pattern[i]:\n",
    "        return False\n",
    "\n",
    "return True\n",
    "\n",
    "i = set(temp)\n",
    "\n"
   ]
  },
  {
   "cell_type": "code",
   "execution_count": 68,
   "metadata": {},
   "outputs": [
    {
     "data": {
      "text/plain": [
       "['a', 'b', 'b', 'a']"
      ]
     },
     "execution_count": 68,
     "metadata": {},
     "output_type": "execute_result"
    }
   ],
   "source": [
    "def wordPattern(self, p: str, s: str) -> bool:\n",
    "    words, w_to_p = s.split(' '), dict()\n",
    "\n",
    "    if len(p) != len(words): return False\n",
    "    if len(set(p)) != len(set(words)): return False # for the case w = ['dog', 'cat'] and p = 'aa'\n",
    "\n",
    "    for i in range(len(words)):\n",
    "        if words[i] not in w_to_p: \n",
    "            w_to_p[words[i]] = p[i]\n",
    "        elif w_to_p[words[i]] != p[i]: \n",
    "            return False\n",
    "\n",
    "    return True"
   ]
  },
  {
   "cell_type": "code",
   "execution_count": 69,
   "metadata": {},
   "outputs": [
    {
     "ename": "NameError",
     "evalue": "name 'Counter' is not defined",
     "output_type": "error",
     "traceback": [
      "\u001b[1;31m---------------------------------------------------------------------------\u001b[0m",
      "\u001b[1;31mNameError\u001b[0m                                 Traceback (most recent call last)",
      "\u001b[1;32mc:\\Users\\Haemin Jang\\Coding\\24H1_QE_Coding\\HM\\practice.ipynb 셀 13\u001b[0m line \u001b[0;36m<module>\u001b[1;34m\u001b[0m\n\u001b[1;32m----> <a href='vscode-notebook-cell:/c%3A/Users/Haemin%20Jang/Coding/24H1_QE_Coding/HM/practice.ipynb#X24sZmlsZQ%3D%3D?line=0'>1</a>\u001b[0m Counter(s)\n",
      "\u001b[1;31mNameError\u001b[0m: name 'Counter' is not defined"
     ]
    }
   ],
   "source": []
  },
  {
   "cell_type": "code",
   "execution_count": 64,
   "metadata": {},
   "outputs": [],
   "source": [
    "temp = zip(pattern, s)"
   ]
  },
  {
   "cell_type": "code",
   "execution_count": 65,
   "metadata": {},
   "outputs": [
    {
     "data": {
      "text/plain": [
       "{('a', 'dog'), ('a', 'zebra'), ('b', 'cat')}"
      ]
     },
     "execution_count": 65,
     "metadata": {},
     "output_type": "execute_result"
    }
   ],
   "source": [
    "i = set(temp)\n",
    "i"
   ]
  },
  {
   "cell_type": "code",
   "execution_count": 67,
   "metadata": {},
   "outputs": [
    {
     "ename": "TypeError",
     "evalue": "'set' object is not subscriptable",
     "output_type": "error",
     "traceback": [
      "\u001b[1;31m---------------------------------------------------------------------------\u001b[0m",
      "\u001b[1;31mTypeError\u001b[0m                                 Traceback (most recent call last)",
      "\u001b[1;32mc:\\Users\\Haemin Jang\\Coding\\24H1_QE_Coding\\HM\\practice.ipynb 셀 15\u001b[0m line \u001b[0;36m<module>\u001b[1;34m\u001b[0m\n\u001b[1;32m----> <a href='vscode-notebook-cell:/c%3A/Users/Haemin%20Jang/Coding/24H1_QE_Coding/HM/practice.ipynb#X23sZmlsZQ%3D%3D?line=0'>1</a>\u001b[0m i[\u001b[39m0\u001b[39;49m]\n",
      "\u001b[1;31mTypeError\u001b[0m: 'set' object is not subscriptable"
     ]
    }
   ],
   "source": [
    "i[0]"
   ]
  },
  {
   "cell_type": "code",
   "execution_count": null,
   "metadata": {},
   "outputs": [],
   "source": [
    "for i in range(len(i)):\n",
    "    if "
   ]
  },
  {
   "cell_type": "code",
   "execution_count": null,
   "metadata": {},
   "outputs": [],
   "source": []
  }
 ],
 "metadata": {
  "kernelspec": {
   "display_name": "Python 3",
   "language": "python",
   "name": "python3"
  },
  "language_info": {
   "codemirror_mode": {
    "name": "ipython",
    "version": 3
   },
   "file_extension": ".py",
   "mimetype": "text/x-python",
   "name": "python",
   "nbconvert_exporter": "python",
   "pygments_lexer": "ipython3",
   "version": "3.10.2"
  }
 },
 "nbformat": 4,
 "nbformat_minor": 2
}
