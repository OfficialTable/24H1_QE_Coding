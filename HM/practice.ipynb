{
 "cells": [
  {
   "cell_type": "code",
   "execution_count": 8,
   "metadata": {},
   "outputs": [],
   "source": [
    "s = \"abcabcbb\"\n",
    "ans = \"\"\n",
    "ans += \"i\""
   ]
  },
  {
   "cell_type": "code",
   "execution_count": 30,
   "metadata": {},
   "outputs": [],
   "source": [
    "s = \"blue is the sky\""
   ]
  },
  {
   "cell_type": "code",
   "execution_count": 40,
   "metadata": {},
   "outputs": [
    {
     "data": {
      "text/plain": [
       "['blue', 'is', 'the', 'sky']"
      ]
     },
     "execution_count": 40,
     "metadata": {},
     "output_type": "execute_result"
    }
   ],
   "source": [
    "temp"
   ]
  },
  {
   "cell_type": "code",
   "execution_count": 55,
   "metadata": {},
   "outputs": [],
   "source": [
    "temp = s.split()\n",
    "res = \"\"\n",
    "for i in range(len(temp)-1, -1, -1):\n",
    "    if res == \"\":\n",
    "        res += temp[i]\n",
    "    else:\n",
    "        res = res + \" \" + temp[i]"
   ]
  },
  {
   "cell_type": "code",
   "execution_count": 56,
   "metadata": {},
   "outputs": [
    {
     "data": {
      "text/plain": [
       "'sky the is blue'"
      ]
     },
     "execution_count": 56,
     "metadata": {},
     "output_type": "execute_result"
    }
   ],
   "source": [
    "res"
   ]
  },
  {
   "cell_type": "code",
   "execution_count": 20,
   "metadata": {},
   "outputs": [],
   "source": [
    "def lengthOfLongestSubstring(s: str) -> int:\n",
    "    slidingWindow = set()\n",
    "    left = 0\n",
    "    res = 0\n",
    "\n",
    "    for right in range(len(s)):\n",
    "        #오른쪽 포인터가 지금 슬라이딩 윈도우에 있을 경우 *왼포인터랑겹칠때\n",
    "        while s[right] in slidingWindow:\n",
    "            #왼 포인터를 슬라이딩 윈도우에서 삭제\n",
    "            slidingWindow.remove(s[left])\n",
    "            #왼 포인터를 한칸 옮김\n",
    "            left += 1\n",
    "        #그렇지 않으면, 슬라이딩 윈도우에 추가\n",
    "        slidingWindow.add(s[right])\n",
    "        #현재 슬라이딩 윈도우 길이가 더 길다면 res값을 업데이트\n",
    "        res = max(res, len(slidingWindow))\n",
    "\n",
    "    return res"
   ]
  },
  {
   "cell_type": "code",
   "execution_count": 21,
   "metadata": {},
   "outputs": [
    {
     "data": {
      "text/plain": [
       "''"
      ]
     },
     "execution_count": 21,
     "metadata": {},
     "output_type": "execute_result"
    }
   ],
   "source": [
    "lengthOfLongestSubstring(\"abcabdd\")"
   ]
  },
  {
   "cell_type": "code",
   "execution_count": 57,
   "metadata": {},
   "outputs": [],
   "source": [
    "target = 7\n",
    "nums = [2,3,1,2,4,3]"
   ]
  },
  {
   "cell_type": "code",
   "execution_count": null,
   "metadata": {},
   "outputs": [],
   "source": [
    "class Solution(object):\n",
    "    def minInsertions(self, s):\n",
    "        \"\"\"\n",
    "        :type s: str\n",
    "        :rtype: int\n",
    "        \"\"\"\n",
    "    \n",
    "        def longestPalindrome(s):\n",
    "            res = \"\"\n",
    "            resLen = 0\n",
    "\n",
    "            for i in range(len(s)):\n",
    "                #odd length e.g. \"bab\" \n",
    "                #i = center position \n",
    "                left, right = i, i\n",
    "                while left >= 0 and right < len(s) and s[left] == s[right]:\n",
    "                    if (right - left + 1) > resLen:\n",
    "                        res = s[left : right + 1]\n",
    "                        resLen = right - left + 1\n",
    "                    left -= 1\n",
    "                    right += 1\n",
    "                \n",
    "                #even length e.g. \"cbbc\"\n",
    "                left, right = i, i + 1\n",
    "                while left >= 0 and right < len(s) and s[left] == s[right]:\n",
    "                    if (right - left + 1) > resLen:\n",
    "                        res = s[left : right + 1]\n",
    "                        resLen = right - left + 1\n",
    "                    left -= 1\n",
    "                    right += 1\n",
    "            \n",
    "            return len(res)\n",
    "        \n",
    "        lengthLongestPalindrome = longestPalindrome(s)\n",
    "        return len(s)-lengthLongestPalindrome\n",
    "\n"
   ]
  }
 ],
 "metadata": {
  "kernelspec": {
   "display_name": "Python 3",
   "language": "python",
   "name": "python3"
  },
  "language_info": {
   "codemirror_mode": {
    "name": "ipython",
    "version": 3
   },
   "file_extension": ".py",
   "mimetype": "text/x-python",
   "name": "python",
   "nbconvert_exporter": "python",
   "pygments_lexer": "ipython3",
   "version": "3.10.2"
  }
 },
 "nbformat": 4,
 "nbformat_minor": 2
}
