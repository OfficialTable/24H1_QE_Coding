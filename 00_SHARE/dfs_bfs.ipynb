{
 "cells": [
  {
   "cell_type": "code",
   "execution_count": 1,
   "id": "30f29011",
   "metadata": {},
   "outputs": [],
   "source": [
    "class GNode:\n",
    "    def __init__(self, id, color=\"W\", d=0, p=None):\n",
    "        self.id = id          # id is a string\n",
    "        self.color = color    # color (status) of node \n",
    "        self.distance = d\n",
    "        self.parent = p\n",
    "\n",
    "    def __str__(self):\n",
    "        return self.id\n"
   ]
  },
  {
   "cell_type": "code",
   "execution_count": 8,
   "id": "970662cd",
   "metadata": {},
   "outputs": [],
   "source": [
    "# 노드 생성\n",
    "A = GNode(\"A\")\n",
    "B = GNode(\"B\")\n",
    "C = GNode(\"C\")\n",
    "D = GNode(\"D\")\n",
    "E = GNode(\"E\")\n",
    "\n",
    "# 그래프 구성\n",
    "graph = {\n",
    "    A: [B, C],\n",
    "    B: [A, C, D],\n",
    "    C: [A, B, E],\n",
    "    D: [B, E],\n",
    "    E: [C, D]\n",
    "}\n"
   ]
  },
  {
   "cell_type": "code",
   "execution_count": null,
   "id": "0ffa952c",
   "metadata": {},
   "outputs": [],
   "source": []
  },
  {
   "cell_type": "code",
   "execution_count": null,
   "id": "eac224d8",
   "metadata": {},
   "outputs": [],
   "source": []
  },
  {
   "cell_type": "code",
   "execution_count": null,
   "id": "4eb0384f",
   "metadata": {},
   "outputs": [],
   "source": [
    "1. **최단 경로 찾기**:\n",
    "    - 문제: 주어진 그래프에서 노드 A에서 노드 B까지의 최단 경로를 찾으세요.\n",
    "    - 방법: BFS를 사용하면 두 노드 간의 최단 경로를 찾을 수 있습니다."
   ]
  },
  {
   "cell_type": "code",
   "execution_count": 5,
   "id": "6d97a335",
   "metadata": {},
   "outputs": [],
   "source": [
    "def shortest_path(graph, start, end):\n",
    "    for u in graph.keys():\n",
    "        u.color = \"W\"\n",
    "        u.distance = float('inf')\n",
    "        u.parent = None\n",
    "\n",
    "    start.color = \"G\"\n",
    "    start.distance = 0\n",
    "    queue = [start]\n",
    "\n",
    "    while queue:\n",
    "        u = queue.pop(0)\n",
    "        if u == end:\n",
    "            break\n",
    "        for v in graph[u]:\n",
    "            if v.color == \"W\":\n",
    "                v.color = \"G\"\n",
    "                v.distance = u.distance + 1\n",
    "                v.parent = u\n",
    "                queue.append(v)\n",
    "        u.color = \"B\"\n",
    "\n",
    "    # 경로 복원\n",
    "    path = []\n",
    "    while end:\n",
    "        path.append(end.id)\n",
    "        end = end.parent\n",
    "    return path[::-1]\n"
   ]
  },
  {
   "cell_type": "code",
   "execution_count": 9,
   "id": "811abef2",
   "metadata": {},
   "outputs": [
    {
     "name": "stdout",
     "output_type": "stream",
     "text": [
      "['A', 'C', 'E']\n"
     ]
    }
   ],
   "source": [
    "path = shortest_path(graph, A, E)\n",
    "print(path)  \n"
   ]
  },
  {
   "cell_type": "code",
   "execution_count": null,
   "id": "6c8bb2c9",
   "metadata": {},
   "outputs": [],
   "source": []
  },
  {
   "cell_type": "code",
   "execution_count": null,
   "id": "5b27eafa",
   "metadata": {},
   "outputs": [],
   "source": [
    "*사이클 확인**:\n",
    "    - 문제: 주어진 그래프가 사이클을 포함하고 있는지 확인하세요.\n",
    "    - 방법: DFS나 BFS를 사용하여 그래프를 탐색하면서 이미 방문한 노드를 다시 방문하게 되면 사이클이 존재한다고 판단할 수 있습니다."
   ]
  },
  {
   "cell_type": "code",
   "execution_count": 10,
   "id": "321893cc",
   "metadata": {},
   "outputs": [],
   "source": [
    "def has_cycle(graph):\n",
    "    def dfs_visit(u):\n",
    "        u.color = \"G\"\n",
    "        for v in graph[u]:\n",
    "            if v.color == \"W\":\n",
    "                v.parent = u\n",
    "                if dfs_visit(v):\n",
    "                    return True\n",
    "            elif v.color == \"G\":\n",
    "                return True\n",
    "        u.color = \"B\"\n",
    "        return False\n",
    "\n",
    "    for u in graph.keys():\n",
    "        u.color = \"W\"\n",
    "\n",
    "    for u in graph.keys():\n",
    "        if u.color == \"W\":\n",
    "            if dfs_visit(u):\n",
    "                return True\n",
    "    return False\n"
   ]
  },
  {
   "cell_type": "code",
   "execution_count": 11,
   "id": "562dd223",
   "metadata": {},
   "outputs": [
    {
     "name": "stdout",
     "output_type": "stream",
     "text": [
      "True\n"
     ]
    }
   ],
   "source": [
    "print(has_cycle(graph)) "
   ]
  },
  {
   "cell_type": "code",
   "execution_count": null,
   "id": "4269ea60",
   "metadata": {},
   "outputs": [],
   "source": []
  },
  {
   "cell_type": "code",
   "execution_count": null,
   "id": "e735dba5",
   "metadata": {},
   "outputs": [],
   "source": []
  },
  {
   "cell_type": "code",
   "execution_count": null,
   "id": "6e118794",
   "metadata": {},
   "outputs": [],
   "source": []
  },
  {
   "cell_type": "code",
   "execution_count": null,
   "id": "70e7fbea",
   "metadata": {},
   "outputs": [],
   "source": [
    "3. **연결 성분 찾기**:\n",
    "    - 문제: 주어진 그래프에 있는 모든 연결 성분(connected component)을 찾으세요.\n",
    "    - 방법: DFS나 BFS를 사용하여 그래프를 탐색하면서 방문하지 않은 노드를 시작점으로 하여 다시 탐색을 시작하면, 연결 성분을 찾을 수 있습니다."
   ]
  },
  {
   "cell_type": "code",
   "execution_count": 12,
   "id": "ab0f4192",
   "metadata": {},
   "outputs": [],
   "source": [
    "def connected_components(graph):\n",
    "    def dfs_visit(u, component):\n",
    "        u.color = \"G\"\n",
    "        component.append(u.id)\n",
    "        for v in graph[u]:\n",
    "            if v.color == \"W\":\n",
    "                v.parent = u\n",
    "                dfs_visit(v, component)\n",
    "\n",
    "    components = []\n",
    "\n",
    "    for u in graph.keys():\n",
    "        u.color = \"W\"\n",
    "\n",
    "    for u in graph.keys():\n",
    "        if u.color == \"W\":\n",
    "            component = []\n",
    "            dfs_visit(u, component)\n",
    "            components.append(component)\n",
    "\n",
    "    return components\n"
   ]
  },
  {
   "cell_type": "code",
   "execution_count": 13,
   "id": "55463a78",
   "metadata": {},
   "outputs": [
    {
     "name": "stdout",
     "output_type": "stream",
     "text": [
      "[['A', 'B', 'C', 'E', 'D']]\n"
     ]
    }
   ],
   "source": [
    "components = connected_components(graph)\n",
    "print(components)  # [['A', 'C', 'F', 'B', 'E', 'D']]\n"
   ]
  },
  {
   "cell_type": "code",
   "execution_count": null,
   "id": "5ef29953",
   "metadata": {},
   "outputs": [],
   "source": []
  },
  {
   "cell_type": "code",
   "execution_count": null,
   "id": "23a8eac3",
   "metadata": {},
   "outputs": [],
   "source": [
    "4. **위상 정렬**:\n",
    "    - 문제: 주어진 방향성 있는 그래프의 모든 노드를 위상 정렬하세요.\n",
    "    - 방법: DFS를 사용하여 그래프를 탐색하면서 노드를 방문을 마친 후 스택에 넣습니다. 마지막에 스택을 역순으로 출력하면 위상 정렬된 결과를 얻을 수 있습니다.\n"
   ]
  },
  {
   "cell_type": "code",
   "execution_count": 14,
   "id": "7da022b2",
   "metadata": {},
   "outputs": [],
   "source": [
    "def topological_sort(graph):\n",
    "    stack = []\n",
    "\n",
    "    def dfs_visit(u):\n",
    "        u.color = \"G\"\n",
    "        for v in graph[u]:\n",
    "            if v.color == \"W\":\n",
    "                v.parent = u\n",
    "                dfs_visit(v)\n",
    "        u.color = \"B\"\n",
    "        stack.append(u.id)\n",
    "\n",
    "    for u in graph.keys():\n",
    "        u.color = \"W\"\n",
    "\n",
    "    for u in graph.keys():\n",
    "        if u.color == \"W\":\n",
    "            dfs_visit(u)\n",
    "\n",
    "    return stack[::-1]\n"
   ]
  },
  {
   "cell_type": "code",
   "execution_count": 15,
   "id": "49e826b1",
   "metadata": {},
   "outputs": [
    {
     "name": "stdout",
     "output_type": "stream",
     "text": [
      "['A', 'B', 'C', 'E', 'D']\n"
     ]
    }
   ],
   "source": [
    "order = topological_sort(graph)\n",
    "print(order) "
   ]
  },
  {
   "cell_type": "code",
   "execution_count": null,
   "id": "b80dce6f",
   "metadata": {},
   "outputs": [],
   "source": []
  },
  {
   "cell_type": "code",
   "execution_count": null,
   "id": "ecb9d0e0",
   "metadata": {},
   "outputs": [],
   "source": []
  },
  {
   "cell_type": "code",
   "execution_count": null,
   "id": "6172fb6f",
   "metadata": {},
   "outputs": [],
   "source": [
    "5. **가장 긴 경로 찾기**:\n",
    "    - 문제: 주어진 그래프에서 노드 A와 B 사이의 가장 긴 경로의 길이를 찾으세요.\n",
    "    - 방법: 이 문제는 NP-완전 문제로, 모든 가능한 경로를 조사해야 합니다. DFS를 사용하여 모든 경로를 찾아 가장 긴 경로를 찾을 수 있습니다."
   ]
  },
  {
   "cell_type": "code",
   "execution_count": 20,
   "id": "27ba809b",
   "metadata": {},
   "outputs": [
    {
     "name": "stdout",
     "output_type": "stream",
     "text": [
      "['A', 'C', 'B', 'D', 'E']\n"
     ]
    }
   ],
   "source": [
    "def longest_path(graph, start, end):\n",
    "    best_path = []\n",
    "\n",
    "    def dfs(u, path):\n",
    "        nonlocal best_path\n",
    "        if u == end:\n",
    "            if len(path) > len(best_path):\n",
    "                best_path = path.copy()\n",
    "            return\n",
    "\n",
    "        u.color = \"G\"\n",
    "        for v in graph[u]:\n",
    "            if v.color == \"W\":\n",
    "                dfs(v, path + [v])\n",
    "        u.color = \"W\"\n",
    "\n",
    "    dfs(start, [start])\n",
    "\n",
    "    return [node.id for node in best_path]\n",
    "\n",
    "# Test with the cyclic graph\n",
    "# A = GNode(\"A\")\n",
    "# B = GNode(\"B\")\n",
    "# C = GNode(\"C\")\n",
    "# D = GNode(\"D\")\n",
    "# E = GNode(\"E\")\n",
    "# graph = {\n",
    "#     A: [B, C],\n",
    "#     B: [A, C, D],\n",
    "#     C: [A, B, E],\n",
    "#     D: [B, E],\n",
    "#     E: [C, D]\n",
    "# }\n",
    "\n"
   ]
  },
  {
   "cell_type": "code",
   "execution_count": 21,
   "id": "94cb5f4c",
   "metadata": {},
   "outputs": [
    {
     "name": "stdout",
     "output_type": "stream",
     "text": [
      "['A', 'C', 'B', 'D', 'E']\n"
     ]
    }
   ],
   "source": [
    "path = longest_path(graph, A, E)\n",
    "print(path)  # ['A', 'B', 'D', 'E'] or ['A', 'C', 'B', 'D', 'E'] depending on the traversal\n"
   ]
  },
  {
   "cell_type": "code",
   "execution_count": null,
   "id": "d146bfe9",
   "metadata": {},
   "outputs": [],
   "source": []
  },
  {
   "cell_type": "code",
   "execution_count": null,
   "id": "85096fae",
   "metadata": {},
   "outputs": [],
   "source": []
  },
  {
   "cell_type": "code",
   "execution_count": null,
   "id": "52fd3892",
   "metadata": {},
   "outputs": [],
   "source": [
    "6. **친구의 친구 찾기**:\n",
    "    - 문제: 소셜 네트워크 그래프에서 주어진 노드 A의 친구의 친구를 찾으세요.\n",
    "    - 방법: BFS를 사용하여 노드 A에서 시작하여 2 단계 떨어진 노드들을 찾으면 됩니다."
   ]
  },
  {
   "cell_type": "code",
   "execution_count": 18,
   "id": "ae50e44e",
   "metadata": {},
   "outputs": [],
   "source": [
    "def friends_of_friends(graph, node):\n",
    "    for u in graph.keys():\n",
    "        u.color = \"W\"\n",
    "        u.distance = float('inf')\n",
    "        u.parent = None\n",
    "\n",
    "    node.color = \"G\"\n",
    "    node.distance = 0\n",
    "    queue = [node]\n",
    "\n",
    "    while queue:\n",
    "        u = queue.pop(0)\n",
    "        for v in graph[u]:\n",
    "            if v.color == \"W\":\n",
    "                v.color = \"G\"\n",
    "                v.distance = u.distance + 1\n",
    "                v.parent = u\n",
    "                queue.append(v)\n",
    "        u.color = \"B\"\n",
    "\n",
    "    friends = [v.id for v in graph[node]]\n",
    "    return [u.id for u in graph.keys() if u.distance == 2 and u.id not in friends and u != node]\n"
   ]
  },
  {
   "cell_type": "code",
   "execution_count": 19,
   "id": "2ecb6ee3",
   "metadata": {},
   "outputs": [
    {
     "name": "stdout",
     "output_type": "stream",
     "text": [
      "['D', 'E']\n"
     ]
    }
   ],
   "source": [
    "friends = friends_of_friends(graph, A)\n",
    "print(friends)  "
   ]
  },
  {
   "cell_type": "code",
   "execution_count": null,
   "id": "4018a9cd",
   "metadata": {},
   "outputs": [],
   "source": []
  },
  {
   "cell_type": "code",
   "execution_count": null,
   "id": "74f169ed",
   "metadata": {},
   "outputs": [],
   "source": [
    "1. **크리티컬 경로 찾기**:\n",
    "    - 문제: 각 간선에 가중치(작업 시간 등)가 있을 때, 시작 노드에서 끝 노드까지의 가장 오랜 시간이 걸리는 경로를 찾아라.\n",
    "    - 방법: 위상 정렬을 사용한 다음, 각 노드에 대해 최대 누적 거리를 계산합니다.\n"
   ]
  },
  {
   "cell_type": "code",
   "execution_count": 23,
   "id": "de9697be",
   "metadata": {},
   "outputs": [
    {
     "name": "stdout",
     "output_type": "stream",
     "text": [
      "{'A': 0, 'B': 1, 'C': 2, 'D': 3, 'E': 4}\n"
     ]
    }
   ],
   "source": [
    "# class GNode:\n",
    "#     def __init__(self, id, color=\"W\", d=0, p=None):\n",
    "#         self.id = id          # id is a string\n",
    "#         self.color = color    # color (status) of node \n",
    "#         self.distance = d\n",
    "#         self.parent = p\n",
    "\n",
    "#     def __str__(self):\n",
    "#         return self.id\n",
    "\n",
    "# 그래프 예제 생성\n",
    "A = GNode(\"A\")\n",
    "B = GNode(\"B\")\n",
    "C = GNode(\"C\")\n",
    "D = GNode(\"D\")\n",
    "E = GNode(\"E\")\n",
    "\n",
    "graph = {\n",
    "    A: [B, C],\n",
    "    B: [C, D],\n",
    "    C: [D],\n",
    "    D: [E],\n",
    "    E: []\n",
    "}\n",
    "\n",
    "def topological_sort(graph):\n",
    "    stack = []\n",
    "    visited = set()\n",
    "\n",
    "    def dfs(node):\n",
    "        visited.add(node)\n",
    "        for neighbor in graph[node]:\n",
    "            if neighbor not in visited:\n",
    "                dfs(neighbor)\n",
    "        stack.append(node)\n",
    "\n",
    "    for node in graph:\n",
    "        if node not in visited:\n",
    "            dfs(node)\n",
    "\n",
    "    return stack[::-1]\n",
    "\n",
    "def critical_path(graph):\n",
    "    order = topological_sort(graph)\n",
    "    dist = {node: float('-inf') for node in graph}\n",
    "\n",
    "    dist[order[0]] = 0\n",
    "    for node in order:\n",
    "        for neighbor in graph[node]:\n",
    "            if dist[neighbor] < dist[node] + 1:  # 가중치는 1로 가정\n",
    "                dist[neighbor] = dist[node] + 1\n",
    "\n",
    "    # 노드의 id를 사용하여 결과 반환\n",
    "    return {node.id: distance for node, distance in dist.items()}\n",
    "\n",
    "print(critical_path(graph))\n"
   ]
  },
  {
   "cell_type": "code",
   "execution_count": null,
   "id": "c743e61a",
   "metadata": {},
   "outputs": [],
   "source": []
  },
  {
   "cell_type": "code",
   "execution_count": null,
   "id": "782b8f9d",
   "metadata": {},
   "outputs": [],
   "source": []
  },
  {
   "cell_type": "code",
   "execution_count": null,
   "id": "be64e547",
   "metadata": {},
   "outputs": [],
   "source": [
    "단절점 찾기:\n",
    "\n",
    "문제: 그래프 내의 모든 단절점(제거하면 그래프가 분리되는 노드)을 찾아라.\n",
    "방법: DFS를 사용하여 각 노드가 단절점인지 판별합니다."
   ]
  },
  {
   "cell_type": "code",
   "execution_count": 4,
   "id": "55612f59",
   "metadata": {},
   "outputs": [
    {
     "name": "stdout",
     "output_type": "stream",
     "text": [
      "['D', 'B', 'F']\n"
     ]
    }
   ],
   "source": [
    "def find_articulation_points(graph):\n",
    "    time = [0]\n",
    "    visited = {}\n",
    "    disc = {}\n",
    "    low = {}\n",
    "    parent = {}\n",
    "    ap = set()\n",
    "\n",
    "    def dfs(u):\n",
    "        children = 0\n",
    "        visited[u] = True\n",
    "        disc[u] = time[0]\n",
    "        low[u] = time[0]\n",
    "        time[0] += 1\n",
    "\n",
    "        for v in graph[u]:\n",
    "            if not visited.get(v):\n",
    "                children += 1\n",
    "                parent[v] = u\n",
    "                dfs(v)\n",
    "                low[u] = min(low[u], low[v])\n",
    "\n",
    "                if parent.get(u) is None and children > 1:\n",
    "                    ap.add(u)\n",
    "                if parent.get(u) is not None and low[v] >= disc[u]:\n",
    "                    ap.add(u)\n",
    "            elif v != parent.get(u):\n",
    "                low[u] = min(low[u], disc[v])\n",
    "\n",
    "    for node in graph:\n",
    "        if not visited.get(node):\n",
    "            dfs(node)\n",
    "\n",
    "    return list(ap)\n",
    "\n",
    "# Test case\n",
    "graph = {\n",
    "    \"A\": [\"B\"],\n",
    "    \"B\": [\"A\", \"C\", \"D\"],\n",
    "    \"C\": [\"B\"],\n",
    "    \"D\": [\"B\", \"E\", \"F\"],\n",
    "    \"E\": [\"D\", \"F\"],\n",
    "    \"F\": [\"D\", \"E\", \"G\"],\n",
    "    \"G\": [\"F\"]\n",
    "}\n",
    "print(find_articulation_points(graph))  # ['D', 'B', 'F']\n"
   ]
  },
  {
   "cell_type": "code",
   "execution_count": null,
   "id": "065a4875",
   "metadata": {},
   "outputs": [],
   "source": []
  },
  {
   "cell_type": "code",
   "execution_count": null,
   "id": "11c8c459",
   "metadata": {},
   "outputs": [],
   "source": [
    "3. **다리 찾기**:\n",
    "    - 문제: 그래프 내의 모든 다리(제거하면 그래프가 분리되는 간선)를 찾아라.\n",
    "    - 방법: DFS를 사용하여 back edges와 discovery edges를 판별합니다."
   ]
  },
  {
   "cell_type": "code",
   "execution_count": 14,
   "id": "acd2264a",
   "metadata": {},
   "outputs": [
    {
     "name": "stdout",
     "output_type": "stream",
     "text": [
      "Bridges in graph:\n",
      "3 4\n",
      "0 3\n"
     ]
    }
   ],
   "source": [
    "class Graph:\n",
    "    def __init__(self, vertices):\n",
    "        self.V = vertices\n",
    "        self.graph = {i: [] for i in range(vertices)}\n",
    "        self.time = 0\n",
    "\n",
    "    def addEdge(self, u, v):\n",
    "        self.graph[u].append(v)\n",
    "        self.graph[v].append(u)\n",
    "\n",
    "    def bridgeUtil(self, u, visited, parent, disc, low):\n",
    "        children = 0\n",
    "        visited[u] = True\n",
    "        disc[u] = self.time\n",
    "        low[u] = self.time\n",
    "        self.time += 1\n",
    "\n",
    "        for v in self.graph[u]:\n",
    "            if not visited[v]:\n",
    "                parent[v] = u\n",
    "                children += 1\n",
    "                self.bridgeUtil(v, visited, parent, disc, low)\n",
    "                \n",
    "                low[u] = min(low[u], low[v])\n",
    "                if low[v] > disc[u]:\n",
    "                    print(f\"{u} {v}\")\n",
    "\n",
    "            elif v != parent[u]:\n",
    "                low[u] = min(low[u], disc[v])\n",
    "\n",
    "    def findBridges(self):\n",
    "        visited = [False] * self.V\n",
    "        disc = [float(\"Inf\")] * self.V\n",
    "        low = [float(\"Inf\")] * self.V\n",
    "        parent = [-1] * self.V\n",
    "\n",
    "        for i in range(self.V):\n",
    "            if not visited[i]:\n",
    "                self.bridgeUtil(i, visited, parent, disc, low)\n",
    "\n",
    "\n",
    "# Test\n",
    "g1 = Graph(5)\n",
    "g1.addEdge(1, 0)\n",
    "g1.addEdge(0, 2)\n",
    "g1.addEdge(2, 1)\n",
    "g1.addEdge(0, 3)\n",
    "g1.addEdge(3, 4)\n",
    "print(\"Bridges in graph:\")\n",
    "g1.findBridges()\n"
   ]
  },
  {
   "cell_type": "code",
   "execution_count": null,
   "id": "ba63b8e9",
   "metadata": {},
   "outputs": [],
   "source": []
  },
  {
   "cell_type": "code",
   "execution_count": null,
   "id": "7fe34380",
   "metadata": {},
   "outputs": [],
   "source": [
    "4. **최소 신장 트리**:\n",
    "    - 문제: 주어진 가중치 있는 그래프에서 최소 신장 트리를 찾아라.\n",
    "    - 방법: Kruskal 또는 Prim의 알고리즘을 사용합니다."
   ]
  },
  {
   "cell_type": "code",
   "execution_count": 15,
   "id": "ef71b1d3",
   "metadata": {},
   "outputs": [
    {
     "name": "stdout",
     "output_type": "stream",
     "text": [
      "Edges in MST are:\n",
      "(2, 3, 4)\n",
      "(0, 3, 5)\n",
      "(0, 1, 10)\n"
     ]
    }
   ],
   "source": [
    "class UnionFind:\n",
    "    def __init__(self, size):\n",
    "        self.parent = [i for i in range(size)]\n",
    "        self.rank = [0] * size\n",
    "\n",
    "    def find(self, node):\n",
    "        if self.parent[node] != node:\n",
    "            self.parent[node] = self.find(self.parent[node])\n",
    "        return self.parent[node]\n",
    "\n",
    "    def union(self, node1, node2):\n",
    "        root1 = self.find(node1)\n",
    "        root2 = self.find(node2)\n",
    "        if root1 != root2:\n",
    "            if self.rank[root1] < self.rank[root2]:\n",
    "                self.parent[root1] = root2\n",
    "            else:\n",
    "                self.parent[root2] = root1\n",
    "                if self.rank[root1] == self.rank[root2]:\n",
    "                    self.rank[root1] += 1\n",
    "\n",
    "class KruskalGraph:\n",
    "    def __init__(self, vertices):\n",
    "        self.V = vertices\n",
    "        self.edges = []\n",
    "\n",
    "    def addEdge(self, u, v, w):\n",
    "        self.edges.append((u, v, w))\n",
    "\n",
    "    def kruskalMST(self):\n",
    "        self.edges.sort(key=lambda item: item[2])\n",
    "        uf = UnionFind(self.V)\n",
    "        mst = []\n",
    "\n",
    "        for edge in self.edges:\n",
    "            u, v, w = edge\n",
    "            if uf.find(u) != uf.find(v):\n",
    "                mst.append(edge)\n",
    "                uf.union(u, v)\n",
    "\n",
    "        return mst\n",
    "\n",
    "# Test\n",
    "g2 = KruskalGraph(4)\n",
    "g2.addEdge(0, 1, 10)\n",
    "g2.addEdge(0, 2, 6)\n",
    "g2.addEdge(0, 3, 5)\n",
    "g2.addEdge(1, 3, 15)\n",
    "g2.addEdge(2, 3, 4)\n",
    "\n",
    "print(\"Edges in MST are:\")\n",
    "mst = g2.kruskalMST()\n",
    "for edge in mst:\n",
    "    print(edge)\n"
   ]
  },
  {
   "cell_type": "code",
   "execution_count": null,
   "id": "43f93827",
   "metadata": {},
   "outputs": [],
   "source": []
  },
  {
   "cell_type": "code",
   "execution_count": null,
   "id": "348e9ab3",
   "metadata": {},
   "outputs": [],
   "source": [
    "6. **두 노드 사이의 모든 경로 찾기**:\n",
    "    - 문제: 주어진 그래프에서 두 노드 사이의 모든 경로를 찾아라.\n",
    "    - 방법: 백트래킹 방식의 DFS를 사용하여 모든 경로를 탐색합니다."
   ]
  },
  {
   "cell_type": "code",
   "execution_count": 16,
   "id": "548cbe4a",
   "metadata": {},
   "outputs": [
    {
     "name": "stdout",
     "output_type": "stream",
     "text": [
      "All paths between 0 and 3:\n",
      "[0, 1, 3]\n",
      "[0, 2, 3]\n",
      "[0, 3]\n"
     ]
    }
   ],
   "source": [
    "class PathsGraph:\n",
    "    def __init__(self, vertices):\n",
    "        self.V = vertices\n",
    "        self.graph = {i: [] for i in range(vertices)}\n",
    "\n",
    "    def addEdge(self, u, v):\n",
    "        self.graph[u].append(v)\n",
    "        self.graph[v].append(u)\n",
    "\n",
    "    def findAllPaths(self, src, dest, visited, path):\n",
    "        visited[src] = True\n",
    "        path.append(src)\n",
    "\n",
    "        if src == dest:\n",
    "            print(path)\n",
    "        else:\n",
    "            for i in self.graph[src]:\n",
    "                if not visited[i]:\n",
    "                    self.findAllPaths(i, dest, visited, path)\n",
    "\n",
    "        path.pop()\n",
    "        visited[src] = False\n",
    "\n",
    "    def printAllPaths(self, s, d):\n",
    "        visited = [False] * self.V\n",
    "        path = []\n",
    "\n",
    "        self.findAllPaths(s, d, visited, path)\n",
    "\n",
    "# Test\n",
    "g3 = PathsGraph(4)\n",
    "g3.addEdge(0, 1)\n",
    "g3.addEdge(0, 2)\n",
    "g3.addEdge(0, 3)\n",
    "g3.addEdge(2, 3)\n",
    "g3.addEdge(1, 3)\n",
    "\n",
    "print(\"All paths between 0 and 3:\")\n",
    "g3.printAllPaths(0, 3)\n"
   ]
  },
  {
   "cell_type": "code",
   "execution_count": null,
   "id": "ce04bdce",
   "metadata": {},
   "outputs": [],
   "source": []
  },
  {
   "cell_type": "code",
   "execution_count": null,
   "id": "39dbf55d",
   "metadata": {},
   "outputs": [],
   "source": []
  },
  {
   "cell_type": "code",
   "execution_count": null,
   "id": "de04066d",
   "metadata": {},
   "outputs": [],
   "source": [
    "7. **가장 짧은 경로 찾기**:\n",
    "    - 문제: 두 노드 사이의 가장 짧은 경로의 길이를 찾아라.\n",
    "    - 방법: BFS를 사용하여 가장 먼저 목표 노드에 도달하는 경로의 길이를 찾습니다."
   ]
  },
  {
   "cell_type": "code",
   "execution_count": 17,
   "id": "e7642075",
   "metadata": {},
   "outputs": [
    {
     "name": "stdout",
     "output_type": "stream",
     "text": [
      "Shortest path between 0 and 3: 1\n"
     ]
    }
   ],
   "source": [
    "class ShortestPathGraph:\n",
    "    def __init__(self, vertices):\n",
    "        self.V = vertices\n",
    "        self.graph = {i: [] for i in range(vertices)}\n",
    "\n",
    "    def addEdge(self, u, v):\n",
    "        self.graph[u].append(v)\n",
    "        self.graph[v].append(u)\n",
    "\n",
    "    def shortestPath(self, s, d):\n",
    "        visited = [False] * self.V\n",
    "        dist = [float(\"inf\")] * self.V\n",
    "        queue = []\n",
    "\n",
    "        queue.append(s)\n",
    "        visited[s] = True\n",
    "        dist[s] = 0\n",
    "\n",
    "        while queue:\n",
    "            curr = queue.pop(0)\n",
    "            for i in self.graph[curr]:\n",
    "                if not visited[i]:\n",
    "                    queue.append(i)\n",
    "                    visited[i] = True\n",
    "                    dist[i] = dist[curr] + 1\n",
    "\n",
    "        return dist[d]\n",
    "\n",
    "# Test\n",
    "g4 = ShortestPathGraph(4)\n",
    "g4.addEdge(0, 1)\n",
    "g4.addEdge(0, 2)\n",
    "g4.addEdge(0, 3)\n",
    "g4.addEdge(2, 3)\n",
    "g4.addEdge(1, 3)\n",
    "\n",
    "print(f\"Shortest path between 0 and 3: {g4.shortestPath(0, 3)}\")\n"
   ]
  },
  {
   "cell_type": "code",
   "execution_count": null,
   "id": "069fc9d2",
   "metadata": {},
   "outputs": [],
   "source": []
  },
  {
   "cell_type": "code",
   "execution_count": null,
   "id": "3298cd72",
   "metadata": {},
   "outputs": [],
   "source": []
  },
  {
   "cell_type": "code",
   "execution_count": null,
   "id": "516a84ba",
   "metadata": {},
   "outputs": [],
   "source": [
    "가장 긴 경로 찾기"
   ]
  },
  {
   "cell_type": "code",
   "execution_count": 18,
   "id": "24b4deb8",
   "metadata": {},
   "outputs": [
    {
     "name": "stdout",
     "output_type": "stream",
     "text": [
      "Length of the longest path is 4\n"
     ]
    }
   ],
   "source": [
    "from collections import deque\n",
    "\n",
    "class Graph:\n",
    "    def __init__(self, vertices):\n",
    "        self.V = vertices\n",
    "        self.graph = {i: [] for i in range(vertices)}\n",
    "\n",
    "    def addEdge(self, u, v):\n",
    "        self.graph[u].append(v)\n",
    "        self.graph[v].append(u)\n",
    "\n",
    "    def BFS(self, s):\n",
    "        visited = [False] * self.V\n",
    "        dist = [0] * self.V\n",
    "        queue = deque()\n",
    "        queue.append(s)\n",
    "        visited[s] = True\n",
    "\n",
    "        while queue:\n",
    "            current = queue.popleft()\n",
    "            for i in self.graph[current]:\n",
    "                if not visited[i]:\n",
    "                    visited[i] = True\n",
    "                    dist[i] = dist[current] + 1\n",
    "                    queue.append(i)\n",
    "\n",
    "        return dist.index(max(dist)), max(dist)\n",
    "\n",
    "    def longestPath(self):\n",
    "        # Step 1: Find the farthest node from any random node\n",
    "        node, _ = self.BFS(0)\n",
    "\n",
    "        # Step 2: Find the farthest node from the first node found in the previous step\n",
    "        _, longest_distance = self.BFS(node)\n",
    "\n",
    "        return longest_distance\n",
    "\n",
    "# Test\n",
    "g = Graph(5)\n",
    "g.addEdge(0, 1)\n",
    "g.addEdge(0, 2)\n",
    "g.addEdge(2, 3)\n",
    "g.addEdge(3, 4)\n",
    "\n",
    "print(\"Length of the longest path is\", g.longestPath())\n"
   ]
  },
  {
   "cell_type": "code",
   "execution_count": null,
   "id": "d1e9c8a1",
   "metadata": {},
   "outputs": [],
   "source": []
  }
 ],
 "metadata": {
  "kernelspec": {
   "display_name": "Python 3 (ipykernel)",
   "language": "python",
   "name": "python3"
  },
  "language_info": {
   "codemirror_mode": {
    "name": "ipython",
    "version": 3
   },
   "file_extension": ".py",
   "mimetype": "text/x-python",
   "name": "python",
   "nbconvert_exporter": "python",
   "pygments_lexer": "ipython3",
   "version": "3.9.12"
  }
 },
 "nbformat": 4,
 "nbformat_minor": 5
}
