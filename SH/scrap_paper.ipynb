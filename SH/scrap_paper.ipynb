{
 "cells": [
  {
   "cell_type": "code",
   "execution_count": 34,
   "metadata": {},
   "outputs": [],
   "source": [
    "from typing import List"
   ]
  },
  {
   "cell_type": "markdown",
   "metadata": {},
   "source": [
    "# 209. Minimum Size Subarray Sum"
   ]
  },
  {
   "cell_type": "code",
   "execution_count": 61,
   "metadata": {},
   "outputs": [],
   "source": [
    "# One pointer\n",
    "def minSubArrayLen(target: int, nums: List[int])->int:\n",
    "    left = 0\n",
    "    num_sum = 0\n",
    "    length = 10000000\n",
    "\n",
    "    for i in range(len(nums)):\n",
    "        num_sum += nums[i]\n",
    "        while num_sum >= target:\n",
    "            length = min(length, (i-left+1))\n",
    "            num_sum -= nums[left]\n",
    "            left += 1\n",
    "\n",
    "    return 0 if length == 10000000 else length"
   ]
  },
  {
   "cell_type": "code",
   "execution_count": 89,
   "metadata": {},
   "outputs": [],
   "source": [
    "def minSubArrayLen(target: int, nums: List[int])->int:\n",
    "    right, left = 0, 0\n",
    "    num_sum = nums[right] # first element\n",
    "    length = 10000000 #minimum length\n",
    "\n",
    "    while (right<=left) and (left<len(nums)):\n",
    "        if nums[left] >= target:\n",
    "            return 1\n",
    "        if num_sum >= target:\n",
    "            length = min(length, left-right+1)\n",
    "            num_sum -= nums[right]\n",
    "            right += 1\n",
    "        else:\n",
    "            left += 1\n",
    "            if left<len(nums):\n",
    "                num_sum += nums[left] \n",
    "            \n",
    "\n",
    "    return 0 if length == 10000000 else length"
   ]
  },
  {
   "cell_type": "code",
   "execution_count": 90,
   "metadata": {},
   "outputs": [
    {
     "data": {
      "text/plain": [
       "2"
      ]
     },
     "execution_count": 90,
     "metadata": {},
     "output_type": "execute_result"
    }
   ],
   "source": [
    "target = 7\n",
    "nums = [2,3,1,2,4,3]\n",
    "minSubArrayLen(target, nums) # 2"
   ]
  },
  {
   "cell_type": "code",
   "execution_count": 91,
   "metadata": {},
   "outputs": [
    {
     "data": {
      "text/plain": [
       "1"
      ]
     },
     "execution_count": 91,
     "metadata": {},
     "output_type": "execute_result"
    }
   ],
   "source": [
    "target = 4\n",
    "nums = [1,4,4]\n",
    "minSubArrayLen(target, nums) # 1"
   ]
  },
  {
   "cell_type": "markdown",
   "metadata": {},
   "source": [
    "# 151. Reverse Words in a String"
   ]
  },
  {
   "cell_type": "code",
   "execution_count": 19,
   "metadata": {},
   "outputs": [],
   "source": [
    "def reverseWords(s: str) -> str:\n",
    "    list_words = s.split()\n",
    "    str = \"\"\n",
    "    str = \" \".join(list_words[::-1])\n",
    "    return str"
   ]
  },
  {
   "cell_type": "code",
   "execution_count": 20,
   "metadata": {},
   "outputs": [
    {
     "data": {
      "text/plain": [
       "'blue is sky the'"
      ]
     },
     "execution_count": 20,
     "metadata": {},
     "output_type": "execute_result"
    }
   ],
   "source": [
    "s = \"the sky is blue\"\n",
    "reverseWords(s) # \"blue is sky the\""
   ]
  },
  {
   "cell_type": "markdown",
   "metadata": {},
   "source": [
    "# Kakao: Q4\n",
    "### Give a coins and cards, you will play a game. \n",
    "\n",
    "### Kakao: Q5 -> find the expected value when number of vertices and tops are given. (geometrical question)"
   ]
  },
  {
   "cell_type": "code",
   "execution_count": 315,
   "metadata": {},
   "outputs": [],
   "source": [
    "coin = 4\n",
    "cards = [3, 6, 7, 2, 1, 10, 5, 9, 8, 12, 11, 4] # soln: 5\n",
    "n = len(cards)"
   ]
  },
  {
   "cell_type": "code",
   "execution_count": 317,
   "metadata": {},
   "outputs": [],
   "source": [
    "coin = 2\n",
    "cards = [5, 8, 1, 2, 9, 4, 12, 11, 3, 10, 6, 7]\n",
    "n = len(cards)"
   ]
  },
  {
   "cell_type": "code",
   "execution_count": 318,
   "metadata": {},
   "outputs": [],
   "source": [
    "import itertools\n",
    "\n",
    "answer = 1 # number of rounds\n",
    "# Settings\n",
    "n = len(cards) \n",
    "my_cards, my_coins = cards[:n//3], coin//3\n",
    "cards = cards[n//3:]\n",
    "\n",
    "# Game Starts\n",
    "while cards and my_coins:\n",
    "    # Pop two cards from stack\n",
    "    card_1, card_2 = cards[:2][0], cards[:2][1] \n",
    "    cards = cards[2:]\n",
    "    Flag = False\n",
    "    \n",
    "    # In order to go for next round while using my cards\n",
    "    for pair in combinations(my_cards, 2):\n",
    "        # If my card can make sum of (n+1)\n",
    "        if sum(pair) == n+1:\n",
    "            my_cards.remove(pair[0])\n",
    "            my_cards.remove(pair[1])\n",
    "            answer += 1\n",
    "            Flag = True\n",
    "            \n",
    "    # if non of pairs can make sum of (n+1)\n",
    "    if Flag == False:\n",
    "        if card_1>max(my_cards) and card_2 > max(my_cards):\n",
    "            \n",
    "        for card in my_cards:\n",
    "            # If one of card can make sum of (n+1)\n",
    "            if (card_1 + card == (n+1)) or (card_2 + card == (n+1)):\n",
    "                my_coins -= 1\n",
    "                my_cards.remove(card)\n",
    "                answer += 1\n",
    "            # If two cards can make sum of (n+1)\n",
    "            if (card_1 + card_2 == (n+1)):\n",
    "                answer += 1\n",
    "                my_coins -= 2\n",
    "        \n"
   ]
  },
  {
   "cell_type": "markdown",
   "metadata": {},
   "source": [
    "# Q3\n",
    "### Give a list of dices (a list of 6 numbers), find the combination of dices that yields maximal possibility of wins. "
   ]
  },
  {
   "cell_type": "code",
   "execution_count": 291,
   "metadata": {},
   "outputs": [
    {
     "name": "stdout",
     "output_type": "stream",
     "text": [
      "[(1,), (2,), (3,), (4,), (5,), (6,)]\n"
     ]
    }
   ],
   "source": [
    "from itertools import combinations, product\n",
    "dice = [1,2,3,4,5,6]\n",
    "com = combinations(dice, 1)\n",
    "print(list(com))"
   ]
  },
  {
   "cell_type": "code",
   "execution_count": 304,
   "metadata": {},
   "outputs": [
    {
     "data": {
      "text/plain": [
       "0"
      ]
     },
     "execution_count": 304,
     "metadata": {},
     "output_type": "execute_result"
    }
   ],
   "source": [
    "answer"
   ]
  },
  {
   "cell_type": "markdown",
   "metadata": {},
   "source": [
    "# Q2\n",
    "### Give a list of edges, find the number of eight cycle, donut cycle, and straight with the index of vertice that starts the graph"
   ]
  },
  {
   "cell_type": "code",
   "execution_count": 281,
   "metadata": {},
   "outputs": [],
   "source": [
    "def solution(edges):\n",
    "    answer = []\n",
    "    adj_mat = {}\n",
    "    # donut: n edges, n vertices / eight: 2n+1 vertices, 2n+2 edges / straigth: n vertices, n-1 edges\n",
    "    donut, straight, eight = 0, 0, 0\n",
    "    answer = [vertice, donut, straight, eight]\n",
    "\n",
    "    # Adj Matrix Construction - row: out, col: in\n",
    "    for v,w in edges:\n",
    "        if v not in adj_mat.keys():\n",
    "            adj_mat[v] = [w]\n",
    "        else:\n",
    "            adj_mat[v].append(w)\n",
    "\n",
    "    # dfs\n",
    "    def dfs(visited, graph, vertice, answer):\n",
    "        if vertice not in visited:\n",
    "            visited.append(vertice)\n",
    "\n",
    "            # not outgoing edges anymore\n",
    "            if vertice not in graph.keys():\n",
    "                graph[vertice] = []\n",
    "                # add number of straight\n",
    "                answer[2] += 1\n",
    "            \n",
    "            # Go though all the neighbors\n",
    "            for neighbor in graph[vertice]:\n",
    "                if neighbor in visited:\n",
    "                    answer[1] += 1\n",
    "                dfs(visited, graph, neighbor)\n",
    "\n",
    "    return answer"
   ]
  },
  {
   "cell_type": "markdown",
   "metadata": {},
   "source": [
    "# Kakao: Q1"
   ]
  },
  {
   "cell_type": "code",
   "execution_count": 162,
   "metadata": {},
   "outputs": [],
   "source": [
    "def solution(friends, gifts):\n",
    "    answer = 0\n",
    "    n_ppl = len(friends)\n",
    "    # Setting\n",
    "    # DP Table (row: gift, column: gifted)\n",
    "    dp = [[0 for _ in range(n_ppl)] for _ in range(n_ppl)]\n",
    "    for item in gifts:\n",
    "        A, B = item.split()\n",
    "        row, col = friends.index(A), friends.index(B)\n",
    "        dp[row][col] += 1\n",
    "    # Gift Index\n",
    "    idx, gifts = [0] * n_ppl, [0] * n_ppl\n",
    "    for i in range(n_ppl):\n",
    "        # gift index = (sum of elements in a row) - (sum of elements in a column)\n",
    "        idx[i] = sum(dp[i]) - sum(row[i] for row in dp)\n",
    "\n",
    "    # For processing\n",
    "    for i in range(n_ppl):\n",
    "        for j in range(i+1,n_ppl):\n",
    "            print(gifts)\n",
    "            # if no records for gifts, or equally gifted\n",
    "            if dp[i][j] == 0 or dp[j][i] == 0 or dp[i][j] == dp[j][i]:\n",
    "                # for equal gift index\n",
    "                if idx[i] == idx[j]:\n",
    "                    continue\n",
    "                # other cases\n",
    "                if idx[i] > idx[j]:\n",
    "                    gifts[i] += 1\n",
    "                else:\n",
    "                    gifts[j] += 1\n",
    "            else:\n",
    "                if dp[i][j] > dp[j][i]:\n",
    "                    gifts[i] += 1\n",
    "                else:\n",
    "                    gifts[j] += 1\n",
    "\n",
    "        \n",
    "    return gifts"
   ]
  },
  {
   "cell_type": "code",
   "execution_count": 163,
   "metadata": {},
   "outputs": [
    {
     "name": "stdout",
     "output_type": "stream",
     "text": [
      "[0, 0, 0, 0]\n",
      "[0, 1, 0, 0]\n",
      "[1, 1, 0, 0]\n",
      "[1, 1, 0, 1]\n",
      "[1, 2, 0, 1]\n",
      "[1, 3, 0, 1]\n"
     ]
    },
    {
     "data": {
      "text/plain": [
       "[1, 3, 0, 2]"
      ]
     },
     "execution_count": 163,
     "metadata": {},
     "output_type": "execute_result"
    }
   ],
   "source": [
    "friends = [\"muzi\", \"ryan\", \"frodo\", \"neo\"]\n",
    "gifts = [\"muzi frodo\", \"muzi frodo\", \"ryan muzi\", \"ryan muzi\", \"ryan muzi\", \"frodo muzi\", \"frodo ryan\", \"neo muzi\"]\n",
    "# result: 2\n",
    "solution(friends, gifts)"
   ]
  },
  {
   "cell_type": "markdown",
   "metadata": {},
   "source": [
    "# Kakao: Recommendation of new ID"
   ]
  },
  {
   "cell_type": "code",
   "execution_count": 98,
   "metadata": {},
   "outputs": [],
   "source": [
    "def solution(new_id):\n",
    "    answer = ''\n",
    "    for char in new_id:\n",
    "        # Step 1: upper to lower\n",
    "        if char.isupper():\n",
    "            answer += char.lower()\n",
    "            continue\n",
    "        # Step 2: remove prohibited characters\n",
    "        if char in ['-', '_', '.'] or char.isalnum():\n",
    "            answer += char\n",
    "            continue\n",
    "        # Step 3: remove duplicates of .\n",
    "        if answer[-1] == '.' and char == '.':\n",
    "            continue\n",
    "    print(answer)\n",
    "    # Step 4: remove . in first or last place\n",
    "    answer = answer[1:] if answer[0] == '.' else answer\n",
    "    answer = answer[:-1] if answer[-1] == '.' else answer\n",
    "    # Step 5: add \"a\" for empty string\n",
    "    if answer == \"\":\n",
    "        answer += \"a\"\n",
    "    # Step 6: leave 15 characters\n",
    "    if len(answer) > 15:\n",
    "        answer = answer[:15]\n",
    "        answer = answer[:-1] if answer[-1] == \".\" else answer\n",
    "    # Step 7: answer should be at leat 3 characters\n",
    "    while len(answer) < 3:\n",
    "        answer += new_id[-1]\n",
    "    return answer"
   ]
  },
  {
   "cell_type": "code",
   "execution_count": 99,
   "metadata": {},
   "outputs": [
    {
     "name": "stdout",
     "output_type": "stream",
     "text": [
      ".\n",
      ".\n",
      "t\n",
      "t\n",
      "...bat..y.abcdefghijklm\n"
     ]
    },
    {
     "data": {
      "text/plain": [
       "'..bat..y.abcdef'"
      ]
     },
     "execution_count": 99,
     "metadata": {},
     "output_type": "execute_result"
    }
   ],
   "source": [
    "s = \"...!@BaT#*..y.abcdefghijklm\"\n",
    "solution(s)"
   ]
  },
  {
   "cell_type": "markdown",
   "metadata": {},
   "source": [
    "# 2217. Find Palindrome with Fixed Length"
   ]
  },
  {
   "cell_type": "code",
   "execution_count": null,
   "metadata": {},
   "outputs": [],
   "source": [
    "class Solution:\n",
    "    def kthPalindrome(self, queries: List[int], intLength: int) -> List[int]:\n",
    "        res=[]\n",
    "        ln=ceil(intLength/2)\n",
    "        odd=intLength%2==1\n",
    "        base=10**(ln-1)\n",
    "        def getLalindrome(k:int)->int:\n",
    "            val=str(k-1+base)\n",
    "            if len(val)>ln:\n",
    "                return -1\n",
    "            return int(val+val[-2::-1]) if odd else int(val+val[::-1])\n",
    "        for q in queries:\n",
    "            res.append(getLalindrome(q))  \n",
    "        return res "
   ]
  },
  {
   "cell_type": "code",
   "execution_count": 97,
   "metadata": {},
   "outputs": [],
   "source": [
    "def palindorme(s:str)->bool:\n",
    "    idx = len(s)\n",
    "    if(idx%2): # odd number\n",
    "        if s[0:idx//2] == s[idx:idx//2:-1]:\n",
    "            return True\n",
    "    else:\n",
    "        if s[0:idx//2] == s[idx:idx//2-1:-1]:\n",
    "            return True\n",
    "    return False\n",
    "\n",
    "def kthPalindrome(queries: List[int], intLength: int) -> List[int]:\n",
    "    start = 10**(intLength-1)\n",
    "    end = 10**(intLength)\n",
    "    palindromes = [-1] * (len(queries))\n",
    "    count = 0\n",
    "    for i in range(start, end):\n",
    "        if palindorme(str(i)):\n",
    "            count += 1\n",
    "            if ((count) in queries):\n",
    "                #idx = queries.index(count)\n",
    "                idx = [n for n, x in enumerate(queries) if x == count]\n",
    "                for j in idx:\n",
    "                    palindromes[j] = i\n",
    "    return palindromes"
   ]
  },
  {
   "cell_type": "code",
   "execution_count": 98,
   "metadata": {},
   "outputs": [
    {
     "data": {
      "text/plain": [
       "[6, -1, 2, 2, -1, -1, -1, -1, 8, 6, 9, 9, 3, 8]"
      ]
     },
     "execution_count": 98,
     "metadata": {},
     "output_type": "execute_result"
    }
   ],
   "source": [
    "queries = [6,910748851,2,2,471967776,568041505,706056676,28558130,8,6,9,9,3,8]\n",
    "intLength = 1\n",
    "kthPalindrome(queries, intLength) # [6,-1,2,2,-1,-1,-1,-1,8,6,9,9,3,8]"
   ]
  },
  {
   "cell_type": "code",
   "execution_count": 90,
   "metadata": {},
   "outputs": [
    {
     "data": {
      "text/plain": [
       "[101, 111, 121, 131, 141, 999]"
      ]
     },
     "execution_count": 90,
     "metadata": {},
     "output_type": "execute_result"
    }
   ],
   "source": [
    "queries = [1,2,3,4,5,90]\n",
    "intLength = 3\n",
    "kthPalindrome(queries, intLength) # [[101,111,121,131,141,999]]"
   ]
  },
  {
   "cell_type": "code",
   "execution_count": 88,
   "metadata": {},
   "outputs": [
    {
     "data": {
      "text/plain": [
       "[1111, 1331, 1551]"
      ]
     },
     "execution_count": 88,
     "metadata": {},
     "output_type": "execute_result"
    }
   ],
   "source": [
    "queries = [2, 4, 6]\n",
    "intLength = 4\n",
    "kthPalindrome(queries, intLength) #"
   ]
  },
  {
   "cell_type": "markdown",
   "metadata": {},
   "source": [
    "# 516. Longest Palindromic Subsequence\n",
    "\n",
    "Dynamic Programming \\\n",
    "dp = colletions.defaultdict(int)"
   ]
  },
  {
   "cell_type": "code",
   "execution_count": null,
   "metadata": {},
   "outputs": [],
   "source": [
    "class Solution:\n",
    "    def longestPalindromeSubseq(self, s: str) -> int:\n",
    "        \n",
    "        dp = [([0] * len(s)) for _ in range(len(s))]\n",
    "\n",
    "        for left in range(len(s) - 1, -1, -1): # \n",
    "\n",
    "            dp[left][left] = 1\n",
    "\n",
    "            for right in range(left + 1, len(s)):\n",
    "\n",
    "                if s[left] == s[right]:\n",
    "                    dp[left][right] = 2 + dp[left + 1][right - 1]\n",
    "                else:\n",
    "                    dp[left][right] = max(dp[left + 1][right], dp[left][right - 1])\n",
    "\n",
    "        return dp[0][len(s) - 1]"
   ]
  },
  {
   "cell_type": "code",
   "execution_count": null,
   "metadata": {},
   "outputs": [],
   "source": [
    "class Solution:\n",
    "    def longestPalindromeSubseq(self, s: str) -> int:\n",
    "        # Space: O(N), Time: O(n^2)\n",
    "        @cache\n",
    "        def dfs(l, r):\n",
    "\n",
    "            if l == r:\n",
    "                return 1\n",
    "\n",
    "            if l > r:\n",
    "                return 0\n",
    "\n",
    "            if s[l] == s[r]:\n",
    "                return 2 + dfs(l + 1, r - 1)\n",
    "            else:\n",
    "                return max(dfs(l + 1, r), dfs(l, r - 1))\n",
    "        \n",
    "        return dfs(0, len(s) - 1)"
   ]
  },
  {
   "cell_type": "code",
   "execution_count": null,
   "metadata": {},
   "outputs": [
    {
     "ename": "",
     "evalue": "",
     "output_type": "error",
     "traceback": [
      "\u001b[1;31mRunning cells with 'c:\\Users\\aiot3-PN41\\AppData\\Local\\Microsoft\\WindowsApps\\python3.11.exe' requires the ipykernel package.\n",
      "\u001b[1;31mRun the following command to install 'ipykernel' into the Python environment. \n",
      "\u001b[1;31mCommand: 'c:/Users/aiot3-PN41/AppData/Local/Microsoft/WindowsApps/python3.11.exe -m pip install ipykernel -U --user --force-reinstall'"
     ]
    }
   ],
   "source": [
    "def longestPalindromeSubseq(s: str) -> int:\n",
    "    n = len(s)\n",
    "    dp = [0] * (n+1)\n",
    "    for i in range(1, n+1):\n",
    "        prev = [0] * (n+1)\n",
    "        for j in range(i-1, -1, -1):\n",
    "            tmp = dp[i]\n",
    "            if s[i] == s[j]:\n",
    "                dp[j] = 1+prev if j+1 <= i-1 else 1\n",
    "            else:\n",
    "                dp[j] = max(dp[i+1], dp[i])\n",
    "            prev = tmp\n",
    "\n",
    "    return dp[0]"
   ]
  },
  {
   "cell_type": "code",
   "execution_count": null,
   "metadata": {},
   "outputs": [],
   "source": [
    "s = \"bbbab\"\n",
    "longestPalindromeSubseq(s)"
   ]
  },
  {
   "cell_type": "markdown",
   "metadata": {},
   "source": []
  },
  {
   "cell_type": "markdown",
   "metadata": {},
   "source": [
    "# 5. Longest Palindromic Substring"
   ]
  },
  {
   "cell_type": "code",
   "execution_count": 73,
   "metadata": {},
   "outputs": [],
   "source": [
    "def longestPalindrome(s: str) -> str:\n",
    "    idx_length = len(s)\n",
    "    memo = [0] * (idx_length+1) # make memoization space for all characters\n",
    "    inverse = s[::-1]\n",
    "    for i in range(1, idx_length+1):\n",
    "        prev = [0] * (idx_length+1)\n",
    "        for j in range(1, idx_length+1):\n",
    "            if s[i-1] == inverse[j-1]:\n",
    "                memo[j] = 1+prev[j-1]\n",
    "            else:\n",
    "                memo[j] = max(prev[j], memo[j-1])\n",
    "        prev = memo[:]\n",
    "       \n",
    "    return prev[idx_length]\n",
    "    "
   ]
  },
  {
   "cell_type": "code",
   "execution_count": 74,
   "metadata": {},
   "outputs": [
    {
     "data": {
      "text/plain": [
       "1"
      ]
     },
     "execution_count": 74,
     "metadata": {},
     "output_type": "execute_result"
    }
   ],
   "source": [
    "s = \"babad\"\n",
    "longestPalindrome(s) # \"bab\" or \"aba\""
   ]
  },
  {
   "cell_type": "markdown",
   "metadata": {},
   "source": [
    "# 15. 3Sum"
   ]
  },
  {
   "cell_type": "code",
   "execution_count": 13,
   "metadata": {},
   "outputs": [],
   "source": [
    "def threeSum(nums: List[int]) -> List[List[int]]:\n",
    "    nums.sort() # To user two pointer\n",
    "    answer = []\n",
    "    for i in range(len(nums)-2):\n",
    "        # Base cases\n",
    "        if nums[i] > 0:\n",
    "            break # smallest element already exceeds 0\n",
    "        if i > 0 and nums[i] == nums[i-1]:\n",
    "            continue\n",
    "        \n",
    "        start = i+1\n",
    "        end = len(nums)-1\n",
    "        while start<end:\n",
    "            total = nums[i]+nums[start]+nums[end]\n",
    "            if total < 0: # Need larger value -> increment of start index\n",
    "                start += 1\n",
    "            elif total > 0: # Need smaller value\n",
    "                end -= 1\n",
    "            else:\n",
    "                triplet = [nums[i], nums[start], nums[end]]\n",
    "                answer.append(triplet)\n",
    "                while start < end and nums[start]==triplet[1]:\n",
    "                    start += 1 # If this already exists\n",
    "                while start < end and nums[end] == triplet[2]:\n",
    "                    end -= 1\n",
    "    return answer"
   ]
  },
  {
   "cell_type": "code",
   "execution_count": 14,
   "metadata": {},
   "outputs": [
    {
     "data": {
      "text/plain": [
       "[[-1, -1, 2], [-1, 0, 1]]"
      ]
     },
     "execution_count": 14,
     "metadata": {},
     "output_type": "execute_result"
    }
   ],
   "source": [
    "nums = [-1,0,1,2,-1,-4]\n",
    "threeSum(nums)"
   ]
  },
  {
   "cell_type": "markdown",
   "metadata": {},
   "source": [
    "# 11. Container With Most Water"
   ]
  },
  {
   "cell_type": "code",
   "execution_count": 3,
   "metadata": {},
   "outputs": [],
   "source": [
    "def maxArea(height: List[int]) -> int:\n",
    "    area = 0\n",
    "    start, end = 0, len(height)-1\n",
    "    while(start<end):\n",
    "        tmp_b = end-start\n",
    "        tmp_h = min(height[start], height[end])\n",
    "        tmp_a = tmp_b * tmp_h\n",
    "        area = max(area, tmp_a)\n",
    "        if height[start] < height[end]:\n",
    "            start += 1\n",
    "        else:\n",
    "            end -= 1\n",
    "    return area"
   ]
  },
  {
   "cell_type": "code",
   "execution_count": 4,
   "metadata": {},
   "outputs": [
    {
     "data": {
      "text/plain": [
       "49"
      ]
     },
     "execution_count": 4,
     "metadata": {},
     "output_type": "execute_result"
    }
   ],
   "source": [
    "height = [1,8,6,2,5,4,8,3,7]\n",
    "maxArea(height) # 49"
   ]
  },
  {
   "cell_type": "code",
   "execution_count": 5,
   "metadata": {},
   "outputs": [
    {
     "data": {
      "text/plain": [
       "17"
      ]
     },
     "execution_count": 5,
     "metadata": {},
     "output_type": "execute_result"
    }
   ],
   "source": [
    "height = [2,3,4,5,18,17,6]\n",
    "maxArea(height) # 17"
   ]
  },
  {
   "cell_type": "markdown",
   "metadata": {},
   "source": [
    "# 167. Two Sum II - Input Array Is Sorted"
   ]
  },
  {
   "cell_type": "code",
   "execution_count": 6,
   "metadata": {},
   "outputs": [],
   "source": [
    "def twoSum(numbers: List[int], target: int) -> List[int]:\n",
    "        start_1, end_1 = 0, len(numbers)-1\n",
    "        while(start_1<end_1):\n",
    "            sum = numbers[start_1]+numbers[end_1]\n",
    "            if sum == target:\n",
    "                    return [start_1+1, end_1+1]\n",
    "            if sum > target:\n",
    "                end_1 -= 1\n",
    "            if sum < target:\n",
    "                start_1 += 1\n",
    "        return []"
   ]
  },
  {
   "cell_type": "code",
   "execution_count": 7,
   "metadata": {},
   "outputs": [
    {
     "data": {
      "text/plain": [
       "[1, 2]"
      ]
     },
     "execution_count": 7,
     "metadata": {},
     "output_type": "execute_result"
    }
   ],
   "source": [
    "numbers = [2,7,11,15]\n",
    "target = 9\n",
    "twoSum(numbers, target) # [1,2]"
   ]
  },
  {
   "cell_type": "code",
   "execution_count": 8,
   "metadata": {},
   "outputs": [
    {
     "data": {
      "text/plain": [
       "[1, 3]"
      ]
     },
     "execution_count": 8,
     "metadata": {},
     "output_type": "execute_result"
    }
   ],
   "source": [
    "numbers = [2,3,4]\n",
    "target = 6\n",
    "twoSum(numbers, target) # [1,3]"
   ]
  },
  {
   "cell_type": "code",
   "execution_count": null,
   "metadata": {},
   "outputs": [
    {
     "data": {
      "text/plain": [
       "[1, 2]"
      ]
     },
     "metadata": {},
     "output_type": "display_data"
    }
   ],
   "source": [
    "numbers = [0,0,3,4]\n",
    "target = 0\n",
    "twoSum(numbers, target) # [1,2]"
   ]
  },
  {
   "cell_type": "markdown",
   "metadata": {},
   "source": [
    "# 392. Is Subsequence"
   ]
  },
  {
   "cell_type": "code",
   "execution_count": null,
   "metadata": {},
   "outputs": [],
   "source": [
    "def isSubsequence(s: str, t: str) -> bool:\n",
    "    start_1, end_1 = 0, len(s)\n",
    "    start_2, end_2 = 0, len(t)\n",
    "    while(start_2<end_2 and start_1<end_1):\n",
    "        if s[start_1] == t[start_2]:\n",
    "            start_1 += 1\n",
    "        start_2 += 1\n",
    "    if start_1 == end_1:\n",
    "            return True\n",
    "    return False"
   ]
  },
  {
   "cell_type": "code",
   "execution_count": null,
   "metadata": {},
   "outputs": [
    {
     "data": {
      "text/plain": [
       "True"
      ]
     },
     "metadata": {},
     "output_type": "display_data"
    }
   ],
   "source": [
    "s = \"abc\"\n",
    "t = \"ahbgdc\"\n",
    "isSubsequence(s, t) # True"
   ]
  },
  {
   "cell_type": "code",
   "execution_count": null,
   "metadata": {},
   "outputs": [
    {
     "data": {
      "text/plain": [
       "False"
      ]
     },
     "metadata": {},
     "output_type": "display_data"
    }
   ],
   "source": [
    "s = \"bb\"\n",
    "t = \"ahbgdc\"\n",
    "isSubsequence(s, t) # False"
   ]
  },
  {
   "cell_type": "markdown",
   "metadata": {},
   "source": [
    "# 3. Longest Substring Without Repeating Characters"
   ]
  },
  {
   "cell_type": "code",
   "execution_count": 71,
   "metadata": {},
   "outputs": [],
   "source": [
    "# 틀림 -> wrong algorithm\n",
    "\n",
    "def lengthOfLongestSubstring(s: str) -> int:\n",
    "    length = 0\n",
    "    history = {}\n",
    "    memo = []\n",
    "    for string in s:\n",
    "        if string in memo:\n",
    "            memo = []\n",
    "            length = 0\n",
    "        if string not in memo:\n",
    "            memo.append(string)\n",
    "            length += 1\n",
    "        history[memo] = length\n",
    "    if history:\n",
    "        return max(history.keys())\n",
    "    return length"
   ]
  },
  {
   "cell_type": "code",
   "execution_count": 72,
   "metadata": {},
   "outputs": [
    {
     "data": {
      "text/plain": [
       "1"
      ]
     },
     "execution_count": 72,
     "metadata": {},
     "output_type": "execute_result"
    }
   ],
   "source": [
    "s = \"abcabcbb\"\n",
    "lengthOfLongestSubstring(s) # 3"
   ]
  },
  {
   "cell_type": "code",
   "execution_count": 73,
   "metadata": {},
   "outputs": [
    {
     "data": {
      "text/plain": [
       "2"
      ]
     },
     "execution_count": 73,
     "metadata": {},
     "output_type": "execute_result"
    }
   ],
   "source": [
    "s = \"dvdf\"\n",
    "lengthOfLongestSubstring(s) # 1"
   ]
  },
  {
   "cell_type": "code",
   "execution_count": 74,
   "metadata": {},
   "outputs": [
    {
     "data": {
      "text/plain": [
       "2"
      ]
     },
     "execution_count": 74,
     "metadata": {},
     "output_type": "execute_result"
    }
   ],
   "source": [
    "s = \"aab\"\n",
    "lengthOfLongestSubstring(s) # 2"
   ]
  },
  {
   "cell_type": "code",
   "execution_count": 69,
   "metadata": {},
   "outputs": [
    {
     "name": "stdout",
     "output_type": "stream",
     "text": [
      "{1: [' ']}\n"
     ]
    },
    {
     "data": {
      "text/plain": [
       "1"
      ]
     },
     "execution_count": 69,
     "metadata": {},
     "output_type": "execute_result"
    }
   ],
   "source": [
    "s = \" \"\n",
    "lengthOfLongestSubstring(s) # 1"
   ]
  },
  {
   "cell_type": "markdown",
   "metadata": {},
   "source": [
    "# 121. Best Time to Buy and Sell Stock"
   ]
  },
  {
   "cell_type": "code",
   "execution_count": 51,
   "metadata": {},
   "outputs": [],
   "source": [
    "def maxProfit(prices:List[int])-> int:\n",
    "    profit = 0\n",
    "    buy = prices[0]\n",
    "    for i in range(1, len(prices)):\n",
    "        sell = prices[i]\n",
    "        potential = sell - buy\n",
    "        if buy > sell:\n",
    "            buy = sell\n",
    "        elif potential > profit:\n",
    "            profit = potential\n",
    "    return profit"
   ]
  },
  {
   "cell_type": "code",
   "execution_count": 52,
   "metadata": {},
   "outputs": [
    {
     "data": {
      "text/plain": [
       "5"
      ]
     },
     "execution_count": 52,
     "metadata": {},
     "output_type": "execute_result"
    }
   ],
   "source": [
    "prices = [7,1,5,3,6,4]\n",
    "maxProfit(prices) # 5"
   ]
  },
  {
   "cell_type": "markdown",
   "metadata": {},
   "source": [
    "# 189. Rotate Array"
   ]
  },
  {
   "cell_type": "code",
   "execution_count": 46,
   "metadata": {},
   "outputs": [],
   "source": [
    "def rotate(nums:List[int], k: int)->None:\n",
    "    n = len(nums)\n",
    "    k = k%n\n",
    "    nums[:] = nums[n-k:]+nums[:n-k]\n",
    "    return nums"
   ]
  },
  {
   "cell_type": "code",
   "execution_count": 47,
   "metadata": {},
   "outputs": [
    {
     "data": {
      "text/plain": [
       "[5, 6, 7, 1, 2, 3, 4]"
      ]
     },
     "execution_count": 47,
     "metadata": {},
     "output_type": "execute_result"
    }
   ],
   "source": [
    "nums = [1,2,3,4,5,6,7]\n",
    "k = 3\n",
    "rotate(nums, k) # [5,6,7,1,2,3,4]"
   ]
  },
  {
   "cell_type": "code",
   "execution_count": 48,
   "metadata": {},
   "outputs": [
    {
     "data": {
      "text/plain": [
       "[3, 99, -1, -100]"
      ]
     },
     "execution_count": 48,
     "metadata": {},
     "output_type": "execute_result"
    }
   ],
   "source": [
    "nums = [-1,-100,3,99]\n",
    "k = 2\n",
    "rotate(nums, k) # [3,99,-1,-100]"
   ]
  },
  {
   "cell_type": "markdown",
   "metadata": {},
   "source": [
    "# 169. Majority Element"
   ]
  },
  {
   "cell_type": "code",
   "execution_count": 30,
   "metadata": {},
   "outputs": [],
   "source": [
    "# Memory Limit Exceed for large elements\n",
    "def majorityElement(nums:List[int])->int:\n",
    "    memo = [0] * (max(nums)+1)\n",
    "    for i in range(len(nums)):\n",
    "        memo[nums[i]] += 1\n",
    "    return memo.index(max(memo))"
   ]
  },
  {
   "cell_type": "code",
   "execution_count": 35,
   "metadata": {},
   "outputs": [],
   "source": [
    "def majorityElement(nums:List[int])->int:\n",
    "    candidate = 0\n",
    "    count = 0\n",
    "    for num in nums:\n",
    "        if count == 0:\n",
    "            candidate = num\n",
    "        if num == candidate:\n",
    "            count += 1\n",
    "        else:\n",
    "            count -= 1\n",
    "    return candidate\n",
    "            "
   ]
  },
  {
   "cell_type": "code",
   "execution_count": 36,
   "metadata": {},
   "outputs": [
    {
     "data": {
      "text/plain": [
       "3"
      ]
     },
     "execution_count": 36,
     "metadata": {},
     "output_type": "execute_result"
    }
   ],
   "source": [
    "nums = [3,2,3] # 3\n",
    "majorityElement(nums)"
   ]
  },
  {
   "cell_type": "code",
   "execution_count": 37,
   "metadata": {},
   "outputs": [
    {
     "data": {
      "text/plain": [
       "2"
      ]
     },
     "execution_count": 37,
     "metadata": {},
     "output_type": "execute_result"
    }
   ],
   "source": [
    "nums = [2,2,1,1,1,2,2] # 2\n",
    "majorityElement(nums)"
   ]
  },
  {
   "cell_type": "code",
   "execution_count": 38,
   "metadata": {},
   "outputs": [
    {
     "data": {
      "text/plain": [
       "3"
      ]
     },
     "execution_count": 38,
     "metadata": {},
     "output_type": "execute_result"
    }
   ],
   "source": [
    "nums = [3,3,4] # 3\n",
    "majorityElement(nums)"
   ]
  },
  {
   "cell_type": "code",
   "execution_count": 39,
   "metadata": {},
   "outputs": [
    {
     "data": {
      "text/plain": [
       "-1000000000"
      ]
     },
     "execution_count": 39,
     "metadata": {},
     "output_type": "execute_result"
    }
   ],
   "source": [
    "nums = [1000000000,1000000000,-1000000000,-1000000000,-1000000000]\n",
    "majorityElement(nums)"
   ]
  },
  {
   "cell_type": "markdown",
   "metadata": {},
   "source": [
    "# 80. Remove Duplicates from Sorted Array II"
   ]
  },
  {
   "cell_type": "code",
   "execution_count": 6,
   "metadata": {},
   "outputs": [],
   "source": [
    "def removeDuplicates(nums: List[int])->int:\n",
    "    memo = {}\n",
    "    idx = len(nums)\n",
    "    count = 0\n",
    "    for i in range(idx):\n",
    "        if nums[i] not in memo: # Dictionary key should be the number\n",
    "            nums[count] = nums[i]\n",
    "            memo[nums[i]] = 1\n",
    "            count += 1\n",
    "        elif memo[nums[i]] == 1:\n",
    "            nums[count] = nums[i]\n",
    "            memo[nums[i]] = 2\n",
    "            count += 1\n",
    "    return count"
   ]
  },
  {
   "cell_type": "code",
   "execution_count": 7,
   "metadata": {},
   "outputs": [
    {
     "data": {
      "text/plain": [
       "5"
      ]
     },
     "execution_count": 7,
     "metadata": {},
     "output_type": "execute_result"
    }
   ],
   "source": [
    "nums = [1,1,1,2,2,3] # 5\n",
    "removeDuplicates(nums)"
   ]
  },
  {
   "cell_type": "code",
   "execution_count": 8,
   "metadata": {},
   "outputs": [
    {
     "data": {
      "text/plain": [
       "7"
      ]
     },
     "execution_count": 8,
     "metadata": {},
     "output_type": "execute_result"
    }
   ],
   "source": [
    "nums = [0,0,1,1,1,1,2,3,3] # 7\n",
    "removeDuplicates(nums)"
   ]
  },
  {
   "cell_type": "markdown",
   "metadata": {},
   "source": [
    "# 26. Remove Duplicates from Sorted Array"
   ]
  },
  {
   "cell_type": "code",
   "execution_count": 3,
   "metadata": {},
   "outputs": [],
   "source": [
    "def removeDuplicates(nums: List[int])->int:\n",
    "    memo = []\n",
    "    idx = len(nums)\n",
    "    count = 0\n",
    "    for i in range(idx):\n",
    "        if nums[i] not in memo:\n",
    "            nums[count] = nums[i]\n",
    "            memo.append(nums[i])\n",
    "            count += 1\n",
    "    return count\n",
    "        "
   ]
  },
  {
   "cell_type": "code",
   "execution_count": 4,
   "metadata": {},
   "outputs": [
    {
     "name": "stdout",
     "output_type": "stream",
     "text": [
      "[1]\n",
      "[1, 2]\n"
     ]
    },
    {
     "data": {
      "text/plain": [
       "2"
      ]
     },
     "execution_count": 4,
     "metadata": {},
     "output_type": "execute_result"
    }
   ],
   "source": [
    "nums = [1,1,2]\n",
    "removeDuplicates(nums)"
   ]
  },
  {
   "cell_type": "code",
   "execution_count": 5,
   "metadata": {},
   "outputs": [
    {
     "name": "stdout",
     "output_type": "stream",
     "text": [
      "[0]\n",
      "[0, 1]\n",
      "[0, 1, 2]\n",
      "[0, 1, 2, 3]\n",
      "[0, 1, 2, 3, 4]\n"
     ]
    },
    {
     "data": {
      "text/plain": [
       "5"
      ]
     },
     "execution_count": 5,
     "metadata": {},
     "output_type": "execute_result"
    }
   ],
   "source": [
    "nums = [0,0,1,1,1,2,2,3,3,4]\n",
    "removeDuplicates(nums)"
   ]
  }
 ],
 "metadata": {
  "kernelspec": {
   "display_name": "Python 3",
   "language": "python",
   "name": "python3"
  },
  "language_info": {
   "codemirror_mode": {
    "name": "ipython",
    "version": 3
   },
   "file_extension": ".py",
   "mimetype": "text/x-python",
   "name": "python",
   "nbconvert_exporter": "python",
   "pygments_lexer": "ipython3",
   "version": "3.9.0"
  }
 },
 "nbformat": 4,
 "nbformat_minor": 2
}
